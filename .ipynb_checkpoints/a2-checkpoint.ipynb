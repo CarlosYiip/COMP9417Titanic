{
 "cells": [
  {
   "cell_type": "code",
   "execution_count": 636,
   "metadata": {
    "collapsed": true
   },
   "outputs": [],
   "source": [
    "# data analysis and wrangling\n",
    "import pandas as pd\n",
    "import numpy as np\n",
    "import random as rnd\n",
    "\n",
    "# visualization\n",
    "import seaborn as sns\n",
    "import matplotlib.pyplot as plt\n",
    "%matplotlib inline\n",
    "\n",
    "# machine learning\n",
    "from sklearn.ensemble import RandomForestClassifier as RandomForest\n",
    "from sklearn.model_selection import cross_val_score\n",
    "train_df = pd.read_csv('train.csv')\n",
    "test_df = pd.read_csv('test.csv')\n",
    "combine = [train_df, test_df]"
   ]
  },
  {
   "cell_type": "markdown",
   "metadata": {},
   "source": [
    "# Features"
   ]
  },
  {
   "cell_type": "code",
   "execution_count": 637,
   "metadata": {},
   "outputs": [
    {
     "data": {
      "text/plain": [
       "{'Age',\n",
       " 'Cabin',\n",
       " 'Embarked',\n",
       " 'Fare',\n",
       " 'Name',\n",
       " 'Parch',\n",
       " 'PassengerId',\n",
       " 'Pclass',\n",
       " 'Sex',\n",
       " 'SibSp',\n",
       " 'Survived',\n",
       " 'Ticket'}"
      ]
     },
     "execution_count": 637,
     "metadata": {},
     "output_type": "execute_result"
    }
   ],
   "source": [
    "set(train_df.columns)"
   ]
  },
  {
   "cell_type": "markdown",
   "metadata": {},
   "source": [
    "# Title"
   ]
  },
  {
   "cell_type": "markdown",
   "metadata": {},
   "source": [
    "Extract title from name and make a new feature"
   ]
  },
  {
   "cell_type": "code",
   "execution_count": 638,
   "metadata": {
    "collapsed": true
   },
   "outputs": [],
   "source": [
    "for dataset in combine:\n",
    "    dataset['Title'] = dataset.Name.str.extract(' ([A-Za-z]+)\\.', expand=False)\n",
    "    dataset['Title'] = dataset['Title'].replace(['Lady', 'Countess','Capt', 'Col',\n",
    "                                                 'Don', 'Dr', 'Major', 'Rev', 'Sir', \n",
    "                                                 'Jonkheer', 'Dona'], 'Rare')\n",
    "    dataset['Title'] = dataset['Title'].replace('Mlle', 'Miss')\n",
    "    dataset['Title'] = dataset['Title'].replace('Ms', 'Miss')\n",
    "    dataset['Title'] = dataset['Title'].replace('Mme', 'Mrs') "
   ]
  },
  {
   "cell_type": "code",
   "execution_count": 639,
   "metadata": {},
   "outputs": [
    {
     "data": {
      "image/png": "[encoded data removed]",
      "text/plain": [
       "<matplotlib.figure.Figure at 0x11cb26828>"
      ]
     },
     "metadata": {},
     "output_type": "display_data"
    }
   ],
   "source": [
    "tab = pd.crosstab(train_df['Title'], train_df['Survived'])\n",
    "dummy = tab.div(tab.sum(1).astype(float), axis=0).plot(kind='bar',stacked=True)"
   ]
  },
  {
   "cell_type": "code",
   "execution_count": 640,
   "metadata": {
    "collapsed": true
   },
   "outputs": [],
   "source": [
    "titles = ['Master', 'Miss', 'Mr', 'Mrs', 'Rare']\n",
    "for dataset in combine:\n",
    "    for t in titles:\n",
    "        dataset[t] = dataset['Title'] == t"
   ]
  },
  {
   "cell_type": "markdown",
   "metadata": {},
   "source": [
    "# SibSp and Parch"
   ]
  },
  {
   "cell_type": "code",
   "execution_count": 641,
   "metadata": {
    "collapsed": true
   },
   "outputs": [],
   "source": [
    "for dataset in combine:\n",
    "    dataset['FamilySize'] = dataset['SibSp'] + dataset['Parch']\n",
    "#     dataset['IsAlone'] = dataset['FamilySize'] == 0\n",
    "#     dataset['LargeFamily'] = dataset['FamilySize'] >= 4"
   ]
  },
  {
   "cell_type": "code",
   "execution_count": 642,
   "metadata": {},
   "outputs": [
    {
     "data": {
      "image/png": "[encoded data removed]",
      "text/plain": [
       "<matplotlib.figure.Figure at 0x11caf0978>"
      ]
     },
     "metadata": {},
     "output_type": "display_data"
    }
   ],
   "source": [
    "tab = pd.crosstab(train_df['FamilySize'], train_df['Survived'])\n",
    "dummy = tab.div(tab.sum(1).astype(float), axis=0).plot(kind='bar')"
   ]
  },
  {
   "cell_type": "code",
   "execution_count": 643,
   "metadata": {
    "collapsed": true
   },
   "outputs": [],
   "source": [
    "for dataset in combine:\n",
    "    dataset['GoodFamilySize'] = dataset['FamilySize'].apply(lambda x: x in [1, 2, 3])\n",
    "    dataset['MediumFamilySize'] = dataset['FamilySize'].apply(lambda x: x in [0, 4, 5, 6])\n",
    "    dataset['BadFamilySize'] = dataset['FamilySize'] >= 7"
   ]
  },
  {
   "cell_type": "code",
   "execution_count": null,
   "metadata": {
    "collapsed": true
   },
   "outputs": [],
   "source": []
  },
  {
   "cell_type": "code",
   "execution_count": null,
   "metadata": {
    "collapsed": true
   },
   "outputs": [],
   "source": []
  },
  {
   "cell_type": "code",
   "execution_count": null,
   "metadata": {
    "collapsed": true
   },
   "outputs": [],
   "source": []
  },
  {
   "cell_type": "code",
   "execution_count": null,
   "metadata": {
    "collapsed": true
   },
   "outputs": [],
   "source": []
  },
  {
   "cell_type": "markdown",
   "metadata": {},
   "source": [
    "# Cabin"
   ]
  },
  {
   "cell_type": "code",
   "execution_count": 644,
   "metadata": {
    "collapsed": true
   },
   "outputs": [],
   "source": [
    "for dataset in combine:\n",
    "    dataset['Cabin'] = dataset['Cabin'].fillna(value='U')\n",
    "    dataset['Cabin'] = dataset['Cabin'].str[0]"
   ]
  },
  {
   "cell_type": "code",
   "execution_count": null,
   "metadata": {},
   "outputs": [],
   "source": []
  },
  {
   "cell_type": "code",
   "execution_count": 645,
   "metadata": {},
   "outputs": [
    {
     "data": {
      "image/png": "[encoded data removed]",
      "text/plain": [
       "<matplotlib.figure.Figure at 0x11cb3b8d0>"
      ]
     },
     "metadata": {},
     "output_type": "display_data"
    }
   ],
   "source": [
    "tab = pd.crosstab(train_df['Cabin'], train_df['Survived'])\n",
    "dummy = tab.div(tab.sum(1).astype(float), axis=0).plot(kind='bar')"
   ]
  },
  {
   "cell_type": "code",
   "execution_count": 646,
   "metadata": {
    "collapsed": true
   },
   "outputs": [],
   "source": [
    "for dataset in combine:\n",
    "    dataset['GoodCabin'] = dataset['Cabin'].apply(lambda x: x in ['B','C','D','E','F'])\n",
    "    dataset['MediumCabin'] = dataset['Cabin'].apply(lambda x: x in ['A','G'])\n",
    "    dataset['BadCabin'] = dataset['Cabin'].apply(lambda x: x in ['T', 'U'])"
   ]
  },
  {
   "cell_type": "code",
   "execution_count": null,
   "metadata": {
    "collapsed": true
   },
   "outputs": [],
   "source": []
  },
  {
   "cell_type": "markdown",
   "metadata": {},
   "source": [
    "# Ticket"
   ]
  },
  {
   "cell_type": "code",
   "execution_count": 647,
   "metadata": {
    "collapsed": true
   },
   "outputs": [],
   "source": [
    "for dataset in combine:\n",
    "    dataset[\"TicketType\"] = dataset['Ticket'].str[0]"
   ]
  },
  {
   "cell_type": "code",
   "execution_count": 648,
   "metadata": {},
   "outputs": [
    {
     "data": {
      "image/png": "[encoded data removed]",
      "text/plain": [
       "<matplotlib.figure.Figure at 0x11ce99dd8>"
      ]
     },
     "metadata": {},
     "output_type": "display_data"
    }
   ],
   "source": [
    "tab = pd.crosstab(train_df['TicketType'], train_df['Survived'])\n",
    "dummy = tab.div(tab.sum(1).astype(float), axis=0).plot(kind='bar')"
   ]
  },
  {
   "cell_type": "code",
   "execution_count": null,
   "metadata": {},
   "outputs": [],
   "source": []
  },
  {
   "cell_type": "code",
   "execution_count": 649,
   "metadata": {
    "collapsed": true
   },
   "outputs": [],
   "source": [
    "for dataset in combine:\n",
    "    dataset['GoodTicketType'] = dataset['TicketType'].isin(['1','9','F','P'])\n",
    "    dataset['MediumTicketType'] = dataset['TicketType'].isin(['2','C','S'])\n",
    "    dataset['BadTicketType'] = dataset['TicketType'].isin(['3','4','5','6','7','8','A','L','W'])"
   ]
  },
  {
   "cell_type": "code",
   "execution_count": null,
   "metadata": {},
   "outputs": [],
   "source": []
  },
  {
   "cell_type": "code",
   "execution_count": null,
   "metadata": {},
   "outputs": [],
   "source": []
  },
  {
   "cell_type": "code",
   "execution_count": null,
   "metadata": {
    "collapsed": true
   },
   "outputs": [],
   "source": []
  },
  {
   "cell_type": "code",
   "execution_count": null,
   "metadata": {
    "collapsed": true
   },
   "outputs": [],
   "source": []
  },
  {
   "cell_type": "markdown",
   "metadata": {},
   "source": [
    "# Sex"
   ]
  },
  {
   "cell_type": "code",
   "execution_count": 650,
   "metadata": {
    "collapsed": true
   },
   "outputs": [],
   "source": [
    "for dataset in combine:\n",
    "    dataset['Male'] = dataset['Sex'] == 'male'\n",
    "    dataset['Female'] = dataset['Sex'] == 'female'"
   ]
  },
  {
   "cell_type": "markdown",
   "metadata": {},
   "source": [
    "# Embark"
   ]
  },
  {
   "cell_type": "code",
   "execution_count": 651,
   "metadata": {},
   "outputs": [],
   "source": [
    "for dataset in combine:\n",
    "    dataset['Embarked'] = dataset['Embarked'].fillna('S')\n",
    "    dataset['Embarked_Q'] = dataset['Embarked'].apply(lambda x: x == 'Q')\n",
    "    dataset['Embarked_C'] = dataset['Embarked'].apply(lambda x: x == 'C')\n",
    "    dataset['Embarked_S'] = dataset['Embarked'].apply(lambda x: x == 'S')"
   ]
  },
  {
   "cell_type": "markdown",
   "metadata": {
    "collapsed": true
   },
   "source": [
    "# Pclass"
   ]
  },
  {
   "cell_type": "code",
   "execution_count": 652,
   "metadata": {
    "collapsed": true
   },
   "outputs": [],
   "source": [
    "for dataset in combine:\n",
    "    dataset['Pclass_1'] = dataset['Pclass'] == 1\n",
    "    dataset['Pclass_2'] = dataset['Pclass'] == 2\n",
    "    dataset['Pclass_3'] = dataset['Pclass'] == 3"
   ]
  },
  {
   "cell_type": "markdown",
   "metadata": {},
   "source": [
    "# Fare"
   ]
  },
  {
   "cell_type": "code",
   "execution_count": 653,
   "metadata": {
    "collapsed": true
   },
   "outputs": [],
   "source": [
    "test_df['Fare'] = test_df['Fare'].fillna(np.mean(test_df['Fare']))"
   ]
  },
  {
   "cell_type": "markdown",
   "metadata": {},
   "source": [
    "# Age"
   ]
  },
  {
   "cell_type": "code",
   "execution_count": null,
   "metadata": {},
   "outputs": [],
   "source": []
  },
  {
   "cell_type": "code",
   "execution_count": null,
   "metadata": {
    "collapsed": true
   },
   "outputs": [],
   "source": []
  },
  {
   "cell_type": "code",
   "execution_count": null,
   "metadata": {
    "collapsed": true
   },
   "outputs": [],
   "source": []
  },
  {
   "cell_type": "code",
   "execution_count": null,
   "metadata": {
    "collapsed": true
   },
   "outputs": [],
   "source": []
  },
  {
   "cell_type": "code",
   "execution_count": null,
   "metadata": {
    "collapsed": true
   },
   "outputs": [],
   "source": []
  },
  {
   "cell_type": "code",
   "execution_count": null,
   "metadata": {
    "collapsed": true
   },
   "outputs": [],
   "source": []
  },
  {
   "cell_type": "code",
   "execution_count": null,
   "metadata": {
    "collapsed": true
   },
   "outputs": [],
   "source": []
  },
  {
   "cell_type": "code",
   "execution_count": null,
   "metadata": {
    "collapsed": true
   },
   "outputs": [],
   "source": []
  },
  {
   "cell_type": "code",
   "execution_count": 654,
   "metadata": {},
   "outputs": [
    {
     "data": {
      "text/plain": [
       "0      (0.169, 23.0]\n",
       "1       (34.0, 80.0]\n",
       "2       (23.0, 34.0]\n",
       "3       (34.0, 80.0]\n",
       "4       (34.0, 80.0]\n",
       "6       (34.0, 80.0]\n",
       "7      (0.169, 23.0]\n",
       "8       (23.0, 34.0]\n",
       "9      (0.169, 23.0]\n",
       "10     (0.169, 23.0]\n",
       "11      (34.0, 80.0]\n",
       "12     (0.169, 23.0]\n",
       "13      (34.0, 80.0]\n",
       "14     (0.169, 23.0]\n",
       "15      (34.0, 80.0]\n",
       "16     (0.169, 23.0]\n",
       "18      (23.0, 34.0]\n",
       "20      (34.0, 80.0]\n",
       "21      (23.0, 34.0]\n",
       "22     (0.169, 23.0]\n",
       "23      (23.0, 34.0]\n",
       "24     (0.169, 23.0]\n",
       "25      (34.0, 80.0]\n",
       "27     (0.169, 23.0]\n",
       "30      (34.0, 80.0]\n",
       "33      (34.0, 80.0]\n",
       "34      (23.0, 34.0]\n",
       "35      (34.0, 80.0]\n",
       "37     (0.169, 23.0]\n",
       "38     (0.169, 23.0]\n",
       "           ...      \n",
       "381     (23.0, 34.0]\n",
       "383    (0.169, 23.0]\n",
       "385     (23.0, 34.0]\n",
       "386     (23.0, 34.0]\n",
       "387     (34.0, 80.0]\n",
       "388    (0.169, 23.0]\n",
       "389    (0.169, 23.0]\n",
       "390    (0.169, 23.0]\n",
       "391     (34.0, 80.0]\n",
       "392    (0.169, 23.0]\n",
       "393     (34.0, 80.0]\n",
       "394     (23.0, 34.0]\n",
       "395    (0.169, 23.0]\n",
       "396     (23.0, 34.0]\n",
       "397     (34.0, 80.0]\n",
       "398    (0.169, 23.0]\n",
       "399     (23.0, 34.0]\n",
       "400     (23.0, 34.0]\n",
       "401     (34.0, 80.0]\n",
       "402    (0.169, 23.0]\n",
       "403    (0.169, 23.0]\n",
       "404     (34.0, 80.0]\n",
       "405    (0.169, 23.0]\n",
       "406    (0.169, 23.0]\n",
       "407     (34.0, 80.0]\n",
       "409    (0.169, 23.0]\n",
       "411     (34.0, 80.0]\n",
       "412     (23.0, 34.0]\n",
       "414     (34.0, 80.0]\n",
       "415     (34.0, 80.0]\n",
       "Name: Age, Length: 1046, dtype: category\n",
       "Categories (3, interval[float64]): [(0.169, 23.0] < (23.0, 34.0] < (34.0, 80.0]]"
      ]
     },
     "execution_count": 654,
     "metadata": {},
     "output_type": "execute_result"
    }
   ],
   "source": [
    "age_df = train_df[train_df['Age'].isnull()==False].append(test_df[test_df['Age'].isnull()==False])\n",
    "pd.qcut(age_df['Age'], 3)"
   ]
  },
  {
   "cell_type": "code",
   "execution_count": 655,
   "metadata": {},
   "outputs": [],
   "source": [
    "young_median = age_df[age_df['Age'] <= 23]['Age'].mean()\n",
    "middle_median = age_df[(age_df['Age'] <= 34) & (age_df['Age'] > 23)]['Age'].mean()\n",
    "old_median = age_df[(age_df['Age'] > 34) & (age_df['Age'] <= 80)]['Age'].mean()"
   ]
  },
  {
   "cell_type": "code",
   "execution_count": 656,
   "metadata": {},
   "outputs": [
    {
     "data": {
      "text/plain": [
       "(15.606027777777777, 28.327433628318584, 46.208933717579249)"
      ]
     },
     "execution_count": 656,
     "metadata": {},
     "output_type": "execute_result"
    }
   ],
   "source": [
    "young_median, middle_median, old_median"
   ]
  },
  {
   "cell_type": "code",
   "execution_count": null,
   "metadata": {
    "collapsed": true
   },
   "outputs": [],
   "source": []
  },
  {
   "cell_type": "code",
   "execution_count": null,
   "metadata": {},
   "outputs": [],
   "source": []
  },
  {
   "cell_type": "code",
   "execution_count": 657,
   "metadata": {
    "collapsed": true
   },
   "outputs": [],
   "source": [
    "for dataset in combine:\n",
    "    dataset.loc[(dataset['Age'].isnull()==False)&(dataset['Age']<=23), 'Age'] = 0\n",
    "    dataset.loc[(dataset['Age'].isnull()==False)&(dataset['Age']>23)&(dataset['Age']<=34), 'Age'] = 1\n",
    "    dataset.loc[(dataset['Age'].isnull()==False)&(dataset['Age']>34)&(dataset['Age']<=80), 'Age'] = 2"
   ]
  },
  {
   "cell_type": "code",
   "execution_count": 658,
   "metadata": {
    "collapsed": true
   },
   "outputs": [],
   "source": [
    "age_df.loc[(age_df['Age']<=23), 'Age'] = 0\n",
    "age_df.loc[(age_df['Age']>23)&(age_df['Age']<=34), 'Age'] = 1\n",
    "age_df.loc[(age_df['Age']>34)&(age_df['Age']<=80), 'Age'] = 2"
   ]
  },
  {
   "cell_type": "code",
   "execution_count": 659,
   "metadata": {},
   "outputs": [
    {
     "data": {
      "text/plain": [
       "0.55928987678987674"
      ]
     },
     "execution_count": 659,
     "metadata": {},
     "output_type": "execute_result"
    }
   ],
   "source": [
    "predict_age_features = ['Pclass_1', 'Pclass_2', 'Pclass_3',\n",
    "            'Male', 'Female',\n",
    "            'Miss', 'Mr', 'Mrs', 'Master', #'Rare',\n",
    "            'GoodFamilySize', 'MediumFamilySize']#, 'BadFamilySize']\n",
    "#            'GoodCabin', 'MediumCabin', 'BadCabin']\n",
    "#            'GoodTicketType', 'MediumTicketType', 'BadTicketType',\n",
    "#            'Embarked_Q', 'Embarked_S', 'Embarked_C']\n",
    "\n",
    "X_train = age_df[predict_age_features]\n",
    "Y_train = age_df.Age\n",
    "X_train\n",
    "clf = RandomForestClassifier(n_estimators=100)\n",
    "clf.fit(X_train, Y_train)\n",
    "cross_val_score(clf, X_train, Y_train, cv=5).mean()"
   ]
  },
  {
   "cell_type": "code",
   "execution_count": 660,
   "metadata": {},
   "outputs": [
    {
     "data": {
      "text/plain": [
       "<matplotlib.axes._subplots.AxesSubplot at 0x11cb28780>"
      ]
     },
     "execution_count": 660,
     "metadata": {},
     "output_type": "execute_result"
    },
    {
     "data": {
      "image/png": "[encoded data removed]",
      "text/plain": [
       "<matplotlib.figure.Figure at 0x11cf792b0>"
      ]
     },
     "metadata": {},
     "output_type": "display_data"
    }
   ],
   "source": [
    "features = pd.DataFrame()\n",
    "features['feature'] = X_train.columns\n",
    "features['importance'] = clf.feature_importances_\n",
    "features.sort_values(by=['importance'], ascending=True, inplace=True)\n",
    "features.set_index('feature', inplace=True)\n",
    "features.plot(kind='barh', figsize=(20, 20))"
   ]
  },
  {
   "cell_type": "code",
   "execution_count": 661,
   "metadata": {},
   "outputs": [],
   "source": [
    "for dataset in combine:\n",
    "    for i in dataset[dataset['Age'].isnull()].index:\n",
    "        pred = clf.predict(np.matrix(dataset.loc[i, predict_age_features]))\n",
    "        if pred == 0:\n",
    "            dataset.loc[i, 'Age'] = 16\n",
    "        elif pred == 1:\n",
    "            dataset.loc[i, 'Age'] = 28\n",
    "        else:\n",
    "            dataset.loc[i, 'Age'] = 46"
   ]
  },
  {
   "cell_type": "code",
   "execution_count": 376,
   "metadata": {},
   "outputs": [
    {
     "data": {
      "image/png": "[encoded data removed]",
      "text/plain": [
       "<matplotlib.figure.Figure at 0x1080cc2e8>"
      ]
     },
     "metadata": {},
     "output_type": "display_data"
    }
   ],
   "source": [
    "tab = pd.crosstab(train_df['Age'], train_df['Survived'])\n",
    "dummy = tab.div(tab.sum(1).astype(float), axis=0).plot(kind='bar')"
   ]
  },
  {
   "cell_type": "code",
   "execution_count": null,
   "metadata": {},
   "outputs": [],
   "source": []
  },
  {
   "cell_type": "markdown",
   "metadata": {
    "collapsed": true
   },
   "source": [
    "# Name"
   ]
  },
  {
   "cell_type": "code",
   "execution_count": 377,
   "metadata": {
    "collapsed": true,
    "scrolled": true
   },
   "outputs": [],
   "source": [
    "from collections import Counter\n",
    "train_df['LastName'] = train_df['Name'].str.extract(r'\\.(.*)', expand=True)\n",
    "train_df['LastName'] = train_df['LastName'].str.extract(r'([^\\(\\) ]+)', expand=True)\n",
    "last_name_counter = Counter(train_df['LastName'])\n",
    "train_df['LastNameCount'] = train_df['LastName'].apply(lambda x: last_name_counter[x])"
   ]
  },
  {
   "cell_type": "code",
   "execution_count": 378,
   "metadata": {
    "scrolled": true
   },
   "outputs": [
    {
     "data": {
      "image/png": "[encoded data removed]",
      "text/plain": [
       "<matplotlib.figure.Figure at 0x11375b0f0>"
      ]
     },
     "metadata": {},
     "output_type": "display_data"
    }
   ],
   "source": [
    "tab = pd.crosstab(train_df['LastNameCount'], train_df['Survived'])\n",
    "dummy = tab.div(tab.sum(1).astype(float), axis=0).plot(kind='bar')"
   ]
  },
  {
   "cell_type": "code",
   "execution_count": 379,
   "metadata": {
    "collapsed": true
   },
   "outputs": [],
   "source": [
    "unlucky_last_names = []\n",
    "for i in [4, 7, 10, 31, 48]:\n",
    "    names = list(set(train_df[train_df['LastNameCount'] == i]['LastName']))\n",
    "    for n in names:\n",
    "        unlucky_last_names.append(n)"
   ]
  },
  {
   "cell_type": "code",
   "execution_count": 380,
   "metadata": {
    "collapsed": true
   },
   "outputs": [],
   "source": [
    "for dataset in combine:\n",
    "    dataset['LastName'] = dataset['Name'].str.extract(r'\\.(.*)', expand=True)\n",
    "    dataset['LastName'] = dataset['LastName'].str.extract(r'([^\\(\\) ]+)', expand=True)\n",
    "    dataset['LuckyLastName'] = dataset['LastName'].apply(lambda x: x=='Elizabeth')\n",
    "    dataset['UnluckyLastName'] = dataset['LastName'].apply(lambda x: x in unlucky_last_names)"
   ]
  },
  {
   "cell_type": "code",
   "execution_count": null,
   "metadata": {
    "collapsed": true
   },
   "outputs": [],
   "source": []
  },
  {
   "cell_type": "code",
   "execution_count": null,
   "metadata": {
    "collapsed": true
   },
   "outputs": [],
   "source": []
  },
  {
   "cell_type": "code",
   "execution_count": null,
   "metadata": {
    "collapsed": true
   },
   "outputs": [],
   "source": []
  },
  {
   "cell_type": "code",
   "execution_count": null,
   "metadata": {
    "collapsed": true
   },
   "outputs": [],
   "source": []
  },
  {
   "cell_type": "code",
   "execution_count": 486,
   "metadata": {},
   "outputs": [
    {
     "data": {
      "text/plain": [
       "Index(['PassengerId', 'Survived', 'Pclass', 'Name', 'Sex', 'Age', 'SibSp',\n",
       "       'Parch', 'Ticket', 'Fare', 'Cabin', 'Embarked', 'Title', 'Master',\n",
       "       'Miss', 'Mr', 'Mrs', 'Rare', 'FamilySize', 'GoodCabin', 'MediumCabin',\n",
       "       'BadCabin', 'TicketType', 'GoodTicketType', 'MediumTicketType',\n",
       "       'BadTicketType', 'Embarked_Q', 'Embarked_C', 'Embarked_S',\n",
       "       'GoodFamilySize', 'MediumFamilySize', 'BadFamilySize'],\n",
       "      dtype='object')"
      ]
     },
     "execution_count": 486,
     "metadata": {},
     "output_type": "execute_result"
    }
   ],
   "source": [
    "train_df.columns"
   ]
  },
  {
   "cell_type": "markdown",
   "metadata": {},
   "source": [
    "# Machine Learning"
   ]
  },
  {
   "cell_type": "code",
   "execution_count": 670,
   "metadata": {},
   "outputs": [],
   "source": [
    "features = ['Pclass_1', 'Pclass_2', 'Pclass_3',\n",
    "            'Male', 'Female',\n",
    "            'Fare', 'Age',\n",
    "            'Miss', 'Mr', 'Mrs', 'Master', 'Rare',\n",
    "            'GoodFamilySize', 'MediumFamilySize', 'BadFamilySize',\n",
    "           'GoodCabin', 'MediumCabin', 'BadCabin',\n",
    "            'GoodTicketType', 'MediumTicketType', 'BadTicketType',\n",
    "            'Embarked_Q', 'Embarked_S', 'Embarked_C']\n",
    "X_train = train_df[features]\n",
    "Y_train = train_df['Survived']\n",
    "X_test = test_df[features]"
   ]
  },
  {
   "cell_type": "code",
   "execution_count": 717,
   "metadata": {},
   "outputs": [
    {
     "data": {
      "text/plain": [
       "0.81598796958347519"
      ]
     },
     "execution_count": 717,
     "metadata": {},
     "output_type": "execute_result"
    }
   ],
   "source": [
    "from sklearn.model_selection import cross_val_score\n",
    "random_forest = RandomForestClassifier(n_estimators=100)\n",
    "random_forest.fit(X_train, Y_train)\n",
    "Y_pred = random_forest.predict(X_test)\n",
    "cross_val_score(random_forest, X_train, Y_train, cv=10).mean()"
   ]
  },
  {
   "cell_type": "code",
   "execution_count": 672,
   "metadata": {},
   "outputs": [
    {
     "data": {
      "text/plain": [
       "<matplotlib.axes._subplots.AxesSubplot at 0x115fa1ac8>"
      ]
     },
     "execution_count": 672,
     "metadata": {},
     "output_type": "execute_result"
    },
    {
     "data": {
      "image/png": "[encoded data removed]",
      "text/plain": [
       "<matplotlib.figure.Figure at 0x1168a69b0>"
      ]
     },
     "metadata": {},
     "output_type": "display_data"
    }
   ],
   "source": [
    "features = pd.DataFrame()\n",
    "features['feature'] = X_train.columns\n",
    "features['importance'] = random_forest.feature_importances_\n",
    "features.sort_values(by=['importance'], ascending=True, inplace=True)\n",
    "features.set_index('feature', inplace=True)\n",
    "features.plot(kind='barh', figsize=(20, 20))"
   ]
  },
  {
   "cell_type": "code",
   "execution_count": 763,
   "metadata": {
    "collapsed": true
   },
   "outputs": [],
   "source": [
    "# Best so far, 0.80861\n",
    "features = ['Pclass_2', 'Pclass_3',\n",
    "            'Female',\n",
    "            'Fare', 'Age',\n",
    "            'Miss', 'Mr', 'Mrs', 'Master', 'Rare',\n",
    "            'GoodFamilySize', 'MediumFamilySize', 'BadFamilySize',\n",
    "            'MediumCabin', 'BadCabin',\n",
    "            'GoodTicketType', 'BadTicketType',\n",
    "             'Embarked_S']\n",
    "X_train = train_df[features]\n",
    "Y_train = train_df['Survived']\n",
    "X_test = test_df[features]"
   ]
  },
  {
   "cell_type": "code",
   "execution_count": 764,
   "metadata": {},
   "outputs": [
    {
     "data": {
      "text/plain": [
       "0.83619565217391312"
      ]
     },
     "execution_count": 764,
     "metadata": {},
     "output_type": "execute_result"
    }
   ],
   "source": [
    "from sklearn.ensemble import GradientBoostingClassifier\n",
    "gradient_boost = GradientBoostingClassifier()\n",
    "gradient_boost.fit(X_train, Y_train)\n",
    "Y_pred = gradient_boost.predict(X_test)\n",
    "cross_val_score(gradient_boost, X_train, Y_train, cv=20).mean()"
   ]
  },
  {
   "cell_type": "code",
   "execution_count": 765,
   "metadata": {},
   "outputs": [
    {
     "data": {
      "text/plain": [
       "<matplotlib.axes._subplots.AxesSubplot at 0x125be0940>"
      ]
     },
     "execution_count": 765,
     "metadata": {},
     "output_type": "execute_result"
    },
    {
     "data": {
      "image/png": "[encoded data removed]",
      "text/plain": [
       "<matplotlib.figure.Figure at 0x125c03358>"
      ]
     },
     "metadata": {},
     "output_type": "display_data"
    }
   ],
   "source": [
    "features = pd.DataFrame()\n",
    "features['feature'] = X_train.columns\n",
    "features['importance'] = gradient_boost.feature_importances_\n",
    "features.sort_values(by=['importance'], ascending=True, inplace=True)\n",
    "features.set_index('feature', inplace=True)\n",
    "features.plot(kind='barh', figsize=(20, 20))"
   ]
  },
  {
   "cell_type": "code",
   "execution_count": 766,
   "metadata": {
    "collapsed": true
   },
   "outputs": [],
   "source": [
    "submission = pd.DataFrame({\n",
    "        \"PassengerId\": test_df[\"PassengerId\"],\n",
    "        \"Survived\": Y_pred\n",
    "    })\n",
    "submission.to_csv('submission.csv', index=False)"
   ]
  },
  {
   "cell_type": "code",
   "execution_count": null,
   "metadata": {},
   "outputs": [],
   "source": []
  },
  {
   "cell_type": "code",
   "execution_count": null,
   "metadata": {
    "collapsed": true
   },
   "outputs": [],
   "source": []
  },
  {
   "cell_type": "code",
   "execution_count": null,
   "metadata": {
    "collapsed": true
   },
   "outputs": [],
   "source": []
  }
 ],
 "metadata": {
  "kernelspec": {
   "display_name": "Python 3",
   "language": "python",
   "name": "python3"
  },
  "language_info": {
   "codemirror_mode": {
    "name": "ipython",
    "version": 3
   },
   "file_extension": ".py",
   "mimetype": "text/x-python",
   "name": "python",
   "nbconvert_exporter": "python",
   "pygments_lexer": "ipython3",
   "version": "3.6.1"
  }
 },
 "nbformat": 4,
 "nbformat_minor": 2
}
