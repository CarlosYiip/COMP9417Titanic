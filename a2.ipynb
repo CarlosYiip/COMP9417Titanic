{
 "cells": [
  {
   "cell_type": "code",
   "execution_count": 1180,
   "metadata": {},
   "outputs": [],
   "source": [
    "# data analysis and wrangling\n",
    "import pandas as pd\n",
    "import numpy as np\n",
    "import random as rnd\n",
    "\n",
    "# visualization\n",
    "import seaborn as sns\n",
    "import matplotlib.pyplot as plt\n",
    "%matplotlib inline\n",
    "\n",
    "#\n",
    "# machine learning\n",
    "from sklearn.linear_model import LogisticRegression\n",
    "from sklearn.svm import SVC, LinearSVC\n",
    "from sklearn.ensemble import RandomForestClassifier, GradientBoostingClassifier\n",
    "from sklearn.neighbors import KNeighborsClassifier\n",
    "from sklearn.naive_bayes import GaussianNB\n",
    "from sklearn.linear_model import Perceptron\n",
    "from sklearn.linear_model import SGDClassifier\n",
    "from sklearn.tree import DecisionTreeClassifier\n",
    "from sklearn.model_selection import cross_val_score\n",
    "train_df = pd.read_csv('train.csv')\n",
    "test_df = pd.read_csv('test.csv')\n",
    "combine = [train_df, test_df]"
   ]
  },
  {
   "cell_type": "markdown",
   "metadata": {},
   "source": [
    "# Features"
   ]
  },
  {
   "cell_type": "code",
   "execution_count": 1076,
   "metadata": {},
   "outputs": [
    {
     "data": {
      "text/plain": [
       "{'Age',\n",
       " 'Cabin',\n",
       " 'Embarked',\n",
       " 'Fare',\n",
       " 'Name',\n",
       " 'Parch',\n",
       " 'PassengerId',\n",
       " 'Pclass',\n",
       " 'Sex',\n",
       " 'SibSp',\n",
       " 'Survived',\n",
       " 'Ticket'}"
      ]
     },
     "execution_count": 1076,
     "metadata": {},
     "output_type": "execute_result"
    }
   ],
   "source": [
    "set(train_df.columns)"
   ]
  },
  {
   "cell_type": "markdown",
   "metadata": {},
   "source": [
    "# Title"
   ]
  },
  {
   "cell_type": "markdown",
   "metadata": {},
   "source": [
    "Extract title from name and make a new feature"
   ]
  },
  {
   "cell_type": "code",
   "execution_count": 1181,
   "metadata": {
    "collapsed": true
   },
   "outputs": [],
   "source": [
    "for dataset in combine:\n",
    "    dataset['Title'] = dataset.Name.str.extract(' ([A-Za-z]+)\\.', expand=False)\n",
    "    dataset['Title'] = dataset['Title'].replace(['Lady', 'Countess','Capt', 'Col',\n",
    "                                                 'Don', 'Dr', 'Major', 'Rev', 'Sir', \n",
    "                                                 'Jonkheer', 'Dona'], 'Rare')\n",
    "    dataset['Title'] = dataset['Title'].replace('Mlle', 'Miss')\n",
    "    dataset['Title'] = dataset['Title'].replace('Ms', 'Miss')\n",
    "    dataset['Title'] = dataset['Title'].replace('Mme', 'Mrs') "
   ]
  },
  {
   "cell_type": "code",
   "execution_count": 1182,
   "metadata": {},
   "outputs": [
    {
     "data": {
      "image/png": "[encoded data removed]",
      "text/plain": [
       "<matplotlib.figure.Figure at 0x1268dd3c8>"
      ]
     },
     "metadata": {},
     "output_type": "display_data"
    }
   ],
   "source": [
    "tab = pd.crosstab(train_df['Title'], train_df['Survived'])\n",
    "dummy = tab.div(tab.sum(1).astype(float), axis=0).plot(kind='bar',stacked=True)"
   ]
  },
  {
   "cell_type": "code",
   "execution_count": 1183,
   "metadata": {
    "collapsed": true
   },
   "outputs": [],
   "source": [
    "titles = ['Master', 'Miss', 'Mr', 'Mrs', 'Rare']\n",
    "for dataset in combine:\n",
    "    for t in titles:\n",
    "        dataset[t] = dataset['Title'] == t"
   ]
  },
  {
   "cell_type": "markdown",
   "metadata": {},
   "source": [
    "# SibSp and Parch"
   ]
  },
  {
   "cell_type": "code",
   "execution_count": 1225,
   "metadata": {
    "collapsed": true
   },
   "outputs": [],
   "source": [
    "for dataset in combine:\n",
    "    dataset['FamilySize'] = dataset['SibSp'] + dataset['Parch']\n",
    "    dataset['IsAlone'] = dataset['FamilySize'] == 0\n",
    "#     dataset['LargeFamily'] = dataset['FamilySize'] >= 4"
   ]
  },
  {
   "cell_type": "code",
   "execution_count": 1187,
   "metadata": {},
   "outputs": [
    {
     "data": {
      "image/png": "[encoded data removed]",
      "text/plain": [
       "<matplotlib.figure.Figure at 0x12d97fd68>"
      ]
     },
     "metadata": {},
     "output_type": "display_data"
    }
   ],
   "source": [
    "tab = pd.crosstab(train_df['FamilySize'], train_df['Survived'])\n",
    "dummy = tab.div(tab.sum(1).astype(float), axis=0).plot(kind='bar')"
   ]
  },
  {
   "cell_type": "code",
   "execution_count": 1188,
   "metadata": {
    "collapsed": true
   },
   "outputs": [],
   "source": [
    "for dataset in combine:\n",
    "    dataset['GoodFamilySize'] = dataset['FamilySize'].apply(lambda x: x in [1, 2, 3])\n",
    "    dataset['MediumFamilySize'] = dataset['FamilySize'].apply(lambda x: x in [0, 4, 5, 6])\n",
    "    dataset['BadFamilySize'] = dataset['FamilySize'] >= 7"
   ]
  },
  {
   "cell_type": "code",
   "execution_count": null,
   "metadata": {
    "collapsed": true
   },
   "outputs": [],
   "source": []
  },
  {
   "cell_type": "code",
   "execution_count": null,
   "metadata": {
    "collapsed": true
   },
   "outputs": [],
   "source": []
  },
  {
   "cell_type": "code",
   "execution_count": null,
   "metadata": {
    "collapsed": true
   },
   "outputs": [],
   "source": []
  },
  {
   "cell_type": "code",
   "execution_count": null,
   "metadata": {
    "collapsed": true
   },
   "outputs": [],
   "source": []
  },
  {
   "cell_type": "markdown",
   "metadata": {},
   "source": [
    "# Cabin"
   ]
  },
  {
   "cell_type": "code",
   "execution_count": 1189,
   "metadata": {
    "collapsed": true
   },
   "outputs": [],
   "source": [
    "for dataset in combine:\n",
    "    dataset['Cabin'] = dataset['Cabin'].fillna(value='U')\n",
    "    dataset['Cabin'] = dataset['Cabin'].str[0]"
   ]
  },
  {
   "cell_type": "code",
   "execution_count": null,
   "metadata": {},
   "outputs": [],
   "source": []
  },
  {
   "cell_type": "code",
   "execution_count": 1190,
   "metadata": {},
   "outputs": [
    {
     "data": {
      "image/png": "[encoded data removed]",
      "text/plain": [
       "<matplotlib.figure.Figure at 0x12d7f0ba8>"
      ]
     },
     "metadata": {},
     "output_type": "display_data"
    }
   ],
   "source": [
    "tab = pd.crosstab(train_df['Cabin'], train_df['Survived'])\n",
    "dummy = tab.div(tab.sum(1).astype(float), axis=0).plot(kind='bar')"
   ]
  },
  {
   "cell_type": "code",
   "execution_count": 1191,
   "metadata": {
    "collapsed": true
   },
   "outputs": [],
   "source": [
    "for dataset in combine:\n",
    "    dataset['GoodCabin'] = dataset['Cabin'].apply(lambda x: x in ['B','C','D','E','F'])\n",
    "    dataset['MediumCabin'] = dataset['Cabin'].apply(lambda x: x in ['A','G'])\n",
    "    dataset['BadCabin'] = dataset['Cabin'].apply(lambda x: x in ['T', 'U'])"
   ]
  },
  {
   "cell_type": "code",
   "execution_count": null,
   "metadata": {
    "collapsed": true
   },
   "outputs": [],
   "source": []
  },
  {
   "cell_type": "markdown",
   "metadata": {},
   "source": [
    "# Ticket"
   ]
  },
  {
   "cell_type": "code",
   "execution_count": 1193,
   "metadata": {
    "collapsed": true
   },
   "outputs": [],
   "source": [
    "for dataset in combine:\n",
    "    dataset[\"TicketType\"] = dataset['Ticket'].str[0]"
   ]
  },
  {
   "cell_type": "code",
   "execution_count": 1194,
   "metadata": {},
   "outputs": [
    {
     "data": {
      "image/png": "[encoded data removed]",
      "text/plain": [
       "<matplotlib.figure.Figure at 0x12cb89b38>"
      ]
     },
     "metadata": {},
     "output_type": "display_data"
    }
   ],
   "source": [
    "tab = pd.crosstab(train_df['TicketType'], train_df['Survived'])\n",
    "dummy = tab.div(tab.sum(1).astype(float), axis=0).plot(kind='bar')"
   ]
  },
  {
   "cell_type": "code",
   "execution_count": null,
   "metadata": {},
   "outputs": [],
   "source": []
  },
  {
   "cell_type": "code",
   "execution_count": 1195,
   "metadata": {
    "collapsed": true
   },
   "outputs": [],
   "source": [
    "for dataset in combine:\n",
    "    dataset['GoodTicketType'] = dataset['TicketType'].isin(['1','9','F','P'])\n",
    "    dataset['MediumTicketType'] = dataset['TicketType'].isin(['2','C','S'])\n",
    "    dataset['BadTicketType'] = dataset['TicketType'].isin(['3','4','5','6','7','8','A','L','W'])"
   ]
  },
  {
   "cell_type": "code",
   "execution_count": 1196,
   "metadata": {},
   "outputs": [],
   "source": [
    "from collections import Counter\n",
    "ticket_Counter = Counter(train_df['Ticket'])"
   ]
  },
  {
   "cell_type": "code",
   "execution_count": 1197,
   "metadata": {},
   "outputs": [],
   "source": [
    "for dataset in combine:\n",
    "    dataset['SharedTicket'] = dataset['Ticket'].apply(lambda x: ticket_Counter[x] > 1)"
   ]
  },
  {
   "cell_type": "code",
   "execution_count": 1091,
   "metadata": {
    "scrolled": false
   },
   "outputs": [],
   "source": [
    "test=train_df[train_df['SharedTicket'] == True].sort_values(by='Ticket')[['Ticket','Sex','Age','Survived','Name']]\n",
    "# for i in test.index:\n",
    "#     print(list(test.loc[i]))"
   ]
  },
  {
   "cell_type": "code",
   "execution_count": 1092,
   "metadata": {},
   "outputs": [
    {
     "data": {
      "text/html": [
       "<div>\n",
       "<style>\n",
       "    .dataframe thead tr:only-child th {\n",
       "        text-align: right;\n",
       "    }\n",
       "\n",
       "    .dataframe thead th {\n",
       "        text-align: left;\n",
       "    }\n",
       "\n",
       "    .dataframe tbody tr th {\n",
       "        vertical-align: top;\n",
       "    }\n",
       "</style>\n",
       "<table border=\"1\" class=\"dataframe\">\n",
       "  <thead>\n",
       "    <tr style=\"text-align: right;\">\n",
       "      <th></th>\n",
       "      <th>Survived</th>\n",
       "    </tr>\n",
       "    <tr>\n",
       "      <th>SharedTicket</th>\n",
       "      <th></th>\n",
       "    </tr>\n",
       "  </thead>\n",
       "  <tbody>\n",
       "    <tr>\n",
       "      <th>False</th>\n",
       "      <td>0.297989</td>\n",
       "    </tr>\n",
       "    <tr>\n",
       "      <th>True</th>\n",
       "      <td>0.520349</td>\n",
       "    </tr>\n",
       "  </tbody>\n",
       "</table>\n",
       "</div>"
      ],
      "text/plain": [
       "              Survived\n",
       "SharedTicket          \n",
       "False         0.297989\n",
       "True          0.520349"
      ]
     },
     "execution_count": 1092,
     "metadata": {},
     "output_type": "execute_result"
    }
   ],
   "source": [
    "train_df[['SharedTicket', 'Survived']].groupby(['SharedTicket']).mean()"
   ]
  },
  {
   "cell_type": "code",
   "execution_count": null,
   "metadata": {
    "collapsed": true
   },
   "outputs": [],
   "source": []
  },
  {
   "cell_type": "code",
   "execution_count": null,
   "metadata": {
    "collapsed": true
   },
   "outputs": [],
   "source": []
  },
  {
   "cell_type": "code",
   "execution_count": 1093,
   "metadata": {},
   "outputs": [
    {
     "data": {
      "text/plain": [
       "Title\n",
       "Master     3.5\n",
       "Miss      21.0\n",
       "Mr        30.0\n",
       "Mrs       35.0\n",
       "Rare      48.5\n",
       "Name: Age, dtype: float64"
      ]
     },
     "execution_count": 1093,
     "metadata": {},
     "output_type": "execute_result"
    }
   ],
   "source": [
    "train_df.groupby(['Title'])['Age'].median()"
   ]
  },
  {
   "cell_type": "code",
   "execution_count": 1094,
   "metadata": {},
   "outputs": [
    {
     "data": {
      "text/html": [
       "<div>\n",
       "<style>\n",
       "    .dataframe thead tr:only-child th {\n",
       "        text-align: right;\n",
       "    }\n",
       "\n",
       "    .dataframe thead th {\n",
       "        text-align: left;\n",
       "    }\n",
       "\n",
       "    .dataframe tbody tr th {\n",
       "        vertical-align: top;\n",
       "    }\n",
       "</style>\n",
       "<table border=\"1\" class=\"dataframe\">\n",
       "  <thead>\n",
       "    <tr style=\"text-align: right;\">\n",
       "      <th></th>\n",
       "      <th>PassengerId</th>\n",
       "      <th>Survived</th>\n",
       "      <th>Pclass</th>\n",
       "      <th>Name</th>\n",
       "      <th>Sex</th>\n",
       "      <th>Age</th>\n",
       "      <th>SibSp</th>\n",
       "      <th>Parch</th>\n",
       "      <th>Ticket</th>\n",
       "      <th>Fare</th>\n",
       "      <th>Cabin</th>\n",
       "      <th>Embarked</th>\n",
       "      <th>Master</th>\n",
       "      <th>Miss</th>\n",
       "      <th>Mr</th>\n",
       "      <th>Mrs</th>\n",
       "      <th>Rare</th>\n",
       "      <th>FamilySize</th>\n",
       "      <th>GoodFamilySize</th>\n",
       "      <th>MediumFamilySize</th>\n",
       "      <th>BadFamilySize</th>\n",
       "      <th>GoodCabin</th>\n",
       "      <th>MediumCabin</th>\n",
       "      <th>BadCabin</th>\n",
       "      <th>TicketType</th>\n",
       "      <th>GoodTicketType</th>\n",
       "      <th>MediumTicketType</th>\n",
       "      <th>BadTicketType</th>\n",
       "      <th>SharedTicket</th>\n",
       "    </tr>\n",
       "    <tr>\n",
       "      <th>Title</th>\n",
       "      <th></th>\n",
       "      <th></th>\n",
       "      <th></th>\n",
       "      <th></th>\n",
       "      <th></th>\n",
       "      <th></th>\n",
       "      <th></th>\n",
       "      <th></th>\n",
       "      <th></th>\n",
       "      <th></th>\n",
       "      <th></th>\n",
       "      <th></th>\n",
       "      <th></th>\n",
       "      <th></th>\n",
       "      <th></th>\n",
       "      <th></th>\n",
       "      <th></th>\n",
       "      <th></th>\n",
       "      <th></th>\n",
       "      <th></th>\n",
       "      <th></th>\n",
       "      <th></th>\n",
       "      <th></th>\n",
       "      <th></th>\n",
       "      <th></th>\n",
       "      <th></th>\n",
       "      <th></th>\n",
       "      <th></th>\n",
       "      <th></th>\n",
       "    </tr>\n",
       "  </thead>\n",
       "  <tbody>\n",
       "    <tr>\n",
       "      <th>Master</th>\n",
       "      <td>4</td>\n",
       "      <td>4</td>\n",
       "      <td>4</td>\n",
       "      <td>4</td>\n",
       "      <td>4</td>\n",
       "      <td>0</td>\n",
       "      <td>4</td>\n",
       "      <td>4</td>\n",
       "      <td>4</td>\n",
       "      <td>4</td>\n",
       "      <td>4</td>\n",
       "      <td>4</td>\n",
       "      <td>4</td>\n",
       "      <td>4</td>\n",
       "      <td>4</td>\n",
       "      <td>4</td>\n",
       "      <td>4</td>\n",
       "      <td>4</td>\n",
       "      <td>4</td>\n",
       "      <td>4</td>\n",
       "      <td>4</td>\n",
       "      <td>4</td>\n",
       "      <td>4</td>\n",
       "      <td>4</td>\n",
       "      <td>4</td>\n",
       "      <td>4</td>\n",
       "      <td>4</td>\n",
       "      <td>4</td>\n",
       "      <td>4</td>\n",
       "    </tr>\n",
       "    <tr>\n",
       "      <th>Miss</th>\n",
       "      <td>36</td>\n",
       "      <td>36</td>\n",
       "      <td>36</td>\n",
       "      <td>36</td>\n",
       "      <td>36</td>\n",
       "      <td>0</td>\n",
       "      <td>36</td>\n",
       "      <td>36</td>\n",
       "      <td>36</td>\n",
       "      <td>36</td>\n",
       "      <td>36</td>\n",
       "      <td>36</td>\n",
       "      <td>36</td>\n",
       "      <td>36</td>\n",
       "      <td>36</td>\n",
       "      <td>36</td>\n",
       "      <td>36</td>\n",
       "      <td>36</td>\n",
       "      <td>36</td>\n",
       "      <td>36</td>\n",
       "      <td>36</td>\n",
       "      <td>36</td>\n",
       "      <td>36</td>\n",
       "      <td>36</td>\n",
       "      <td>36</td>\n",
       "      <td>36</td>\n",
       "      <td>36</td>\n",
       "      <td>36</td>\n",
       "      <td>36</td>\n",
       "    </tr>\n",
       "    <tr>\n",
       "      <th>Mr</th>\n",
       "      <td>119</td>\n",
       "      <td>119</td>\n",
       "      <td>119</td>\n",
       "      <td>119</td>\n",
       "      <td>119</td>\n",
       "      <td>0</td>\n",
       "      <td>119</td>\n",
       "      <td>119</td>\n",
       "      <td>119</td>\n",
       "      <td>119</td>\n",
       "      <td>119</td>\n",
       "      <td>119</td>\n",
       "      <td>119</td>\n",
       "      <td>119</td>\n",
       "      <td>119</td>\n",
       "      <td>119</td>\n",
       "      <td>119</td>\n",
       "      <td>119</td>\n",
       "      <td>119</td>\n",
       "      <td>119</td>\n",
       "      <td>119</td>\n",
       "      <td>119</td>\n",
       "      <td>119</td>\n",
       "      <td>119</td>\n",
       "      <td>119</td>\n",
       "      <td>119</td>\n",
       "      <td>119</td>\n",
       "      <td>119</td>\n",
       "      <td>119</td>\n",
       "    </tr>\n",
       "    <tr>\n",
       "      <th>Mrs</th>\n",
       "      <td>17</td>\n",
       "      <td>17</td>\n",
       "      <td>17</td>\n",
       "      <td>17</td>\n",
       "      <td>17</td>\n",
       "      <td>0</td>\n",
       "      <td>17</td>\n",
       "      <td>17</td>\n",
       "      <td>17</td>\n",
       "      <td>17</td>\n",
       "      <td>17</td>\n",
       "      <td>17</td>\n",
       "      <td>17</td>\n",
       "      <td>17</td>\n",
       "      <td>17</td>\n",
       "      <td>17</td>\n",
       "      <td>17</td>\n",
       "      <td>17</td>\n",
       "      <td>17</td>\n",
       "      <td>17</td>\n",
       "      <td>17</td>\n",
       "      <td>17</td>\n",
       "      <td>17</td>\n",
       "      <td>17</td>\n",
       "      <td>17</td>\n",
       "      <td>17</td>\n",
       "      <td>17</td>\n",
       "      <td>17</td>\n",
       "      <td>17</td>\n",
       "    </tr>\n",
       "    <tr>\n",
       "      <th>Rare</th>\n",
       "      <td>1</td>\n",
       "      <td>1</td>\n",
       "      <td>1</td>\n",
       "      <td>1</td>\n",
       "      <td>1</td>\n",
       "      <td>0</td>\n",
       "      <td>1</td>\n",
       "      <td>1</td>\n",
       "      <td>1</td>\n",
       "      <td>1</td>\n",
       "      <td>1</td>\n",
       "      <td>1</td>\n",
       "      <td>1</td>\n",
       "      <td>1</td>\n",
       "      <td>1</td>\n",
       "      <td>1</td>\n",
       "      <td>1</td>\n",
       "      <td>1</td>\n",
       "      <td>1</td>\n",
       "      <td>1</td>\n",
       "      <td>1</td>\n",
       "      <td>1</td>\n",
       "      <td>1</td>\n",
       "      <td>1</td>\n",
       "      <td>1</td>\n",
       "      <td>1</td>\n",
       "      <td>1</td>\n",
       "      <td>1</td>\n",
       "      <td>1</td>\n",
       "    </tr>\n",
       "  </tbody>\n",
       "</table>\n",
       "</div>"
      ],
      "text/plain": [
       "        PassengerId  Survived  Pclass  Name  Sex  Age  SibSp  Parch  Ticket  \\\n",
       "Title                                                                         \n",
       "Master            4         4       4     4    4    0      4      4       4   \n",
       "Miss             36        36      36    36   36    0     36     36      36   \n",
       "Mr              119       119     119   119  119    0    119    119     119   \n",
       "Mrs              17        17      17    17   17    0     17     17      17   \n",
       "Rare              1         1       1     1    1    0      1      1       1   \n",
       "\n",
       "        Fare  Cabin  Embarked  Master  Miss   Mr  Mrs  Rare  FamilySize  \\\n",
       "Title                                                                     \n",
       "Master     4      4         4       4     4    4    4     4           4   \n",
       "Miss      36     36        36      36    36   36   36    36          36   \n",
       "Mr       119    119       119     119   119  119  119   119         119   \n",
       "Mrs       17     17        17      17    17   17   17    17          17   \n",
       "Rare       1      1         1       1     1    1    1     1           1   \n",
       "\n",
       "        GoodFamilySize  MediumFamilySize  BadFamilySize  GoodCabin  \\\n",
       "Title                                                                \n",
       "Master               4                 4              4          4   \n",
       "Miss                36                36             36         36   \n",
       "Mr                 119               119            119        119   \n",
       "Mrs                 17                17             17         17   \n",
       "Rare                 1                 1              1          1   \n",
       "\n",
       "        MediumCabin  BadCabin  TicketType  GoodTicketType  MediumTicketType  \\\n",
       "Title                                                                         \n",
       "Master            4         4           4               4                 4   \n",
       "Miss             36        36          36              36                36   \n",
       "Mr              119       119         119             119               119   \n",
       "Mrs              17        17          17              17                17   \n",
       "Rare              1         1           1               1                 1   \n",
       "\n",
       "        BadTicketType  SharedTicket  \n",
       "Title                                \n",
       "Master              4             4  \n",
       "Miss               36            36  \n",
       "Mr                119           119  \n",
       "Mrs                17            17  \n",
       "Rare                1             1  "
      ]
     },
     "execution_count": 1094,
     "metadata": {},
     "output_type": "execute_result"
    }
   ],
   "source": [
    "train_df[train_df['Age'].isnull()].groupby(['Title']).count()"
   ]
  },
  {
   "cell_type": "code",
   "execution_count": null,
   "metadata": {
    "collapsed": true
   },
   "outputs": [],
   "source": []
  },
  {
   "cell_type": "code",
   "execution_count": null,
   "metadata": {
    "collapsed": true
   },
   "outputs": [],
   "source": []
  },
  {
   "cell_type": "code",
   "execution_count": null,
   "metadata": {
    "collapsed": true
   },
   "outputs": [],
   "source": []
  },
  {
   "cell_type": "code",
   "execution_count": null,
   "metadata": {
    "collapsed": true
   },
   "outputs": [],
   "source": []
  },
  {
   "cell_type": "code",
   "execution_count": null,
   "metadata": {
    "collapsed": true
   },
   "outputs": [],
   "source": []
  },
  {
   "cell_type": "markdown",
   "metadata": {},
   "source": [
    "# Sex"
   ]
  },
  {
   "cell_type": "code",
   "execution_count": 1198,
   "metadata": {
    "collapsed": true
   },
   "outputs": [],
   "source": [
    "for dataset in combine:\n",
    "    dataset['Male'] = dataset['Sex'] == 'male'\n",
    "    dataset['Female'] = dataset['Sex'] == 'female'"
   ]
  },
  {
   "cell_type": "markdown",
   "metadata": {},
   "source": [
    "# Embark"
   ]
  },
  {
   "cell_type": "code",
   "execution_count": 1199,
   "metadata": {},
   "outputs": [],
   "source": [
    "for dataset in combine:\n",
    "    dataset['Embarked'] = dataset['Embarked'].fillna('S')\n",
    "    dataset['Embarked_Q'] = dataset['Embarked'].apply(lambda x: x == 'Q')\n",
    "    dataset['Embarked_C'] = dataset['Embarked'].apply(lambda x: x == 'C')\n",
    "    dataset['Embarked_S'] = dataset['Embarked'].apply(lambda x: x == 'S')"
   ]
  },
  {
   "cell_type": "markdown",
   "metadata": {
    "collapsed": true
   },
   "source": [
    "# Pclass"
   ]
  },
  {
   "cell_type": "code",
   "execution_count": 1200,
   "metadata": {
    "collapsed": true
   },
   "outputs": [],
   "source": [
    "for dataset in combine:\n",
    "    dataset['Pclass_1'] = dataset['Pclass'] == 1\n",
    "    dataset['Pclass_2'] = dataset['Pclass'] == 2\n",
    "    dataset['Pclass_3'] = dataset['Pclass'] == 3"
   ]
  },
  {
   "cell_type": "markdown",
   "metadata": {},
   "source": [
    "# Fare"
   ]
  },
  {
   "cell_type": "code",
   "execution_count": 1201,
   "metadata": {
    "collapsed": true
   },
   "outputs": [],
   "source": [
    "test_df['Fare'] = test_df['Fare'].fillna(np.mean(test_df['Fare']))"
   ]
  },
  {
   "cell_type": "code",
   "execution_count": 1202,
   "metadata": {},
   "outputs": [],
   "source": [
    "from math import log2\n",
    "for dataset in combine:\n",
    "    dataset.loc[dataset['Fare'] == 0, 'Fare'] = 1\n",
    "    dataset['LogFare'] = dataset['Fare'].apply(log2)"
   ]
  },
  {
   "cell_type": "code",
   "execution_count": 1203,
   "metadata": {},
   "outputs": [],
   "source": [
    "for dataset in combine:\n",
    "    dataset['IntFare'] = dataset['LogFare'].apply(int)"
   ]
  },
  {
   "cell_type": "code",
   "execution_count": null,
   "metadata": {
    "collapsed": true
   },
   "outputs": [],
   "source": []
  },
  {
   "cell_type": "code",
   "execution_count": null,
   "metadata": {
    "collapsed": true
   },
   "outputs": [],
   "source": []
  },
  {
   "cell_type": "code",
   "execution_count": null,
   "metadata": {
    "collapsed": true
   },
   "outputs": [],
   "source": []
  },
  {
   "cell_type": "code",
   "execution_count": null,
   "metadata": {
    "collapsed": true
   },
   "outputs": [],
   "source": []
  },
  {
   "cell_type": "markdown",
   "metadata": {},
   "source": [
    "# Age"
   ]
  },
  {
   "cell_type": "code",
   "execution_count": 1100,
   "metadata": {},
   "outputs": [
    {
     "data": {
      "text/plain": [
       "0      (0.169, 23.0]\n",
       "1       (34.0, 80.0]\n",
       "2       (23.0, 34.0]\n",
       "3       (34.0, 80.0]\n",
       "4       (34.0, 80.0]\n",
       "6       (34.0, 80.0]\n",
       "7      (0.169, 23.0]\n",
       "8       (23.0, 34.0]\n",
       "9      (0.169, 23.0]\n",
       "10     (0.169, 23.0]\n",
       "11      (34.0, 80.0]\n",
       "12     (0.169, 23.0]\n",
       "13      (34.0, 80.0]\n",
       "14     (0.169, 23.0]\n",
       "15      (34.0, 80.0]\n",
       "16     (0.169, 23.0]\n",
       "18      (23.0, 34.0]\n",
       "20      (34.0, 80.0]\n",
       "21      (23.0, 34.0]\n",
       "22     (0.169, 23.0]\n",
       "23      (23.0, 34.0]\n",
       "24     (0.169, 23.0]\n",
       "25      (34.0, 80.0]\n",
       "27     (0.169, 23.0]\n",
       "30      (34.0, 80.0]\n",
       "33      (34.0, 80.0]\n",
       "34      (23.0, 34.0]\n",
       "35      (34.0, 80.0]\n",
       "37     (0.169, 23.0]\n",
       "38     (0.169, 23.0]\n",
       "           ...      \n",
       "381     (23.0, 34.0]\n",
       "383    (0.169, 23.0]\n",
       "385     (23.0, 34.0]\n",
       "386     (23.0, 34.0]\n",
       "387     (34.0, 80.0]\n",
       "388    (0.169, 23.0]\n",
       "389    (0.169, 23.0]\n",
       "390    (0.169, 23.0]\n",
       "391     (34.0, 80.0]\n",
       "392    (0.169, 23.0]\n",
       "393     (34.0, 80.0]\n",
       "394     (23.0, 34.0]\n",
       "395    (0.169, 23.0]\n",
       "396     (23.0, 34.0]\n",
       "397     (34.0, 80.0]\n",
       "398    (0.169, 23.0]\n",
       "399     (23.0, 34.0]\n",
       "400     (23.0, 34.0]\n",
       "401     (34.0, 80.0]\n",
       "402    (0.169, 23.0]\n",
       "403    (0.169, 23.0]\n",
       "404     (34.0, 80.0]\n",
       "405    (0.169, 23.0]\n",
       "406    (0.169, 23.0]\n",
       "407     (34.0, 80.0]\n",
       "409    (0.169, 23.0]\n",
       "411     (34.0, 80.0]\n",
       "412     (23.0, 34.0]\n",
       "414     (34.0, 80.0]\n",
       "415     (34.0, 80.0]\n",
       "Name: Age, Length: 1046, dtype: category\n",
       "Categories (3, interval[float64]): [(0.169, 23.0] < (23.0, 34.0] < (34.0, 80.0]]"
      ]
     },
     "execution_count": 1100,
     "metadata": {},
     "output_type": "execute_result"
    }
   ],
   "source": [
    "age_df = train_df[train_df['Age'].isnull()==False].append(test_df[test_df['Age'].isnull()==False]).copy()\n",
    "pd.qcut(age_df['Age'], 3)"
   ]
  },
  {
   "cell_type": "code",
   "execution_count": 1101,
   "metadata": {},
   "outputs": [],
   "source": [
    "young_median = age_df[age_df['Age'] <= 23]['Age'].mean()\n",
    "middle_median = age_df[(age_df['Age'] <= 34) & (age_df['Age'] > 23)]['Age'].mean()\n",
    "old_median = age_df[(age_df['Age'] > 34) & (age_df['Age'] <= 80)]['Age'].mean()"
   ]
  },
  {
   "cell_type": "code",
   "execution_count": 1028,
   "metadata": {},
   "outputs": [
    {
     "data": {
      "text/plain": [
       "(15.606027777777777, 28.327433628318584, 46.208933717579249)"
      ]
     },
     "execution_count": 1028,
     "metadata": {},
     "output_type": "execute_result"
    }
   ],
   "source": [
    "young_median, middle_median, old_median"
   ]
  },
  {
   "cell_type": "code",
   "execution_count": 1029,
   "metadata": {
    "collapsed": true
   },
   "outputs": [],
   "source": [
    "# for dataset in combine:\n",
    "#     dataset.loc[(dataset['Age'].isnull()==False)&(dataset['Age']<=23), 'Age'] = 0\n",
    "#     dataset.loc[(dataset['Age'].isnull()==False)&(dataset['Age']>23)&(dataset['Age']<=34), 'Age'] = 1\n",
    "#     dataset.loc[(dataset['Age'].isnull()==False)&(dataset['Age']>34)&(dataset['Age']<=80), 'Age'] = 2"
   ]
  },
  {
   "cell_type": "code",
   "execution_count": 1102,
   "metadata": {
    "collapsed": true
   },
   "outputs": [],
   "source": [
    "age_df.loc[(age_df['Age']<=23), 'Age'] = 0\n",
    "age_df.loc[(age_df['Age']>23)&(age_df['Age']<=34), 'Age'] = 1\n",
    "age_df.loc[(age_df['Age']>34)&(age_df['Age']<=80), 'Age'] = 2"
   ]
  },
  {
   "cell_type": "code",
   "execution_count": null,
   "metadata": {},
   "outputs": [],
   "source": []
  },
  {
   "cell_type": "code",
   "execution_count": 1104,
   "metadata": {},
   "outputs": [
    {
     "data": {
      "text/plain": [
       "0.56407916644758749"
      ]
     },
     "execution_count": 1104,
     "metadata": {},
     "output_type": "execute_result"
    }
   ],
   "source": [
    "predict_age_features = ['Pclass_1', 'Pclass_2', 'Pclass_3',\n",
    "            'Male', 'Female',\n",
    "            'Miss', 'Mr', 'Mrs', 'Master', #'Rare',\n",
    "            'GoodFamilySize', 'MediumFamilySize']#, 'BadFamilySize']\n",
    "#            'GoodCabin', 'MediumCabin', 'BadCabin']\n",
    "#            'GoodTicketType', 'MediumTicketType', 'BadTicketType',\n",
    "#            'Embarked_Q', 'Embarked_S', 'Embarked_C']\n",
    "\n",
    "X_train = age_df[predict_age_features]\n",
    "Y_train = age_df.Age\n",
    "X_train\n",
    "clf = RandomForestClassifier(n_estimators=100)\n",
    "clf.fit(X_train, Y_train)\n",
    "cross_val_score(clf, X_train, Y_train, cv=5).mean()"
   ]
  },
  {
   "cell_type": "code",
   "execution_count": 1032,
   "metadata": {},
   "outputs": [
    {
     "data": {
      "text/plain": [
       "<matplotlib.axes._subplots.AxesSubplot at 0x126c53710>"
      ]
     },
     "execution_count": 1032,
     "metadata": {},
     "output_type": "execute_result"
    },
    {
     "data": {
      "image/png": "[encoded data removed]",
      "text/plain": [
       "<matplotlib.figure.Figure at 0x1279285f8>"
      ]
     },
     "metadata": {},
     "output_type": "display_data"
    }
   ],
   "source": [
    "features = pd.DataFrame()\n",
    "features['feature'] = X_train.columns\n",
    "features['importance'] = clf.feature_importances_\n",
    "features.sort_values(by=['importance'], ascending=True, inplace=True)\n",
    "features.set_index('feature', inplace=True)\n",
    "features.plot(kind='barh', figsize=(20, 20))"
   ]
  },
  {
   "cell_type": "code",
   "execution_count": 1033,
   "metadata": {},
   "outputs": [],
   "source": [
    "for dataset in combine:\n",
    "    for i in dataset[dataset['Age'].isnull()].index:\n",
    "        pred = clf.predict(np.matrix(dataset.loc[i, predict_age_features]))\n",
    "        if pred == 0:\n",
    "            dataset.loc[i, 'Age'] = 16\n",
    "        elif pred == 1:\n",
    "            dataset.loc[i, 'Age'] = 28\n",
    "        else:\n",
    "            dataset.loc[i, 'Age'] = 46"
   ]
  },
  {
   "cell_type": "code",
   "execution_count": 1034,
   "metadata": {},
   "outputs": [
    {
     "data": {
      "image/png": "[encoded data removed]",
      "text/plain": [
       "<matplotlib.figure.Figure at 0x1278cc1d0>"
      ]
     },
     "metadata": {},
     "output_type": "display_data"
    }
   ],
   "source": [
    "tab = pd.crosstab(train_df['Age'], train_df['Survived'])\n",
    "dummy = tab.div(tab.sum(1).astype(float), axis=0).plot(kind='bar')"
   ]
  },
  {
   "cell_type": "code",
   "execution_count": null,
   "metadata": {},
   "outputs": [],
   "source": []
  },
  {
   "cell_type": "code",
   "execution_count": 1204,
   "metadata": {
    "collapsed": true
   },
   "outputs": [],
   "source": [
    "for dataset in combine:\n",
    "    dataset.loc[(dataset['Title'] == 'Master') & (dataset['Age'].isnull()), 'Age'] = 4\n",
    "    dataset.loc[(dataset['Title'] == 'Miss') & (dataset['Age'].isnull()), 'Age'] = 22\n",
    "    dataset.loc[(dataset['Title'] == 'Mr') & (dataset['Age'].isnull()), 'Age'] = 29\n",
    "    dataset.loc[(dataset['Title'] == 'Mrs') & (dataset['Age'].isnull()), 'Age'] = 35\n",
    "    dataset.loc[(dataset['Title'] == 'Rare') & (dataset['Age'].isnull()), 'Age'] = 47"
   ]
  },
  {
   "cell_type": "code",
   "execution_count": 1205,
   "metadata": {},
   "outputs": [
    {
     "data": {
      "text/plain": [
       "Title\n",
       "Master     4.0\n",
       "Miss      22.0\n",
       "Mr        29.0\n",
       "Mrs       35.0\n",
       "Rare      48.0\n",
       "Name: Age, dtype: float64"
      ]
     },
     "execution_count": 1205,
     "metadata": {},
     "output_type": "execute_result"
    }
   ],
   "source": [
    "train_df.groupby(['Title'])['Age'].median()"
   ]
  },
  {
   "cell_type": "code",
   "execution_count": null,
   "metadata": {},
   "outputs": [],
   "source": []
  },
  {
   "cell_type": "code",
   "execution_count": null,
   "metadata": {
    "collapsed": true
   },
   "outputs": [],
   "source": []
  },
  {
   "cell_type": "code",
   "execution_count": null,
   "metadata": {
    "collapsed": true
   },
   "outputs": [],
   "source": []
  },
  {
   "cell_type": "code",
   "execution_count": null,
   "metadata": {
    "collapsed": true
   },
   "outputs": [],
   "source": []
  },
  {
   "cell_type": "code",
   "execution_count": null,
   "metadata": {
    "collapsed": true
   },
   "outputs": [],
   "source": []
  },
  {
   "cell_type": "code",
   "execution_count": null,
   "metadata": {
    "collapsed": true
   },
   "outputs": [],
   "source": []
  },
  {
   "cell_type": "code",
   "execution_count": null,
   "metadata": {
    "collapsed": true
   },
   "outputs": [],
   "source": []
  },
  {
   "cell_type": "code",
   "execution_count": null,
   "metadata": {
    "collapsed": true
   },
   "outputs": [],
   "source": []
  },
  {
   "cell_type": "code",
   "execution_count": null,
   "metadata": {
    "collapsed": true
   },
   "outputs": [],
   "source": []
  },
  {
   "cell_type": "code",
   "execution_count": null,
   "metadata": {
    "collapsed": true
   },
   "outputs": [],
   "source": []
  },
  {
   "cell_type": "code",
   "execution_count": null,
   "metadata": {
    "collapsed": true
   },
   "outputs": [],
   "source": []
  },
  {
   "cell_type": "code",
   "execution_count": null,
   "metadata": {
    "collapsed": true
   },
   "outputs": [],
   "source": []
  },
  {
   "cell_type": "code",
   "execution_count": null,
   "metadata": {
    "collapsed": true
   },
   "outputs": [],
   "source": []
  },
  {
   "cell_type": "markdown",
   "metadata": {
    "collapsed": true
   },
   "source": [
    "# Name"
   ]
  },
  {
   "cell_type": "code",
   "execution_count": 1037,
   "metadata": {
    "collapsed": true,
    "scrolled": true
   },
   "outputs": [],
   "source": [
    "from collections import Counter\n",
    "train_df['LastName'] = train_df['Name'].str.extract(r'\\.(.*)', expand=True)\n",
    "train_df['LastName'] = train_df['LastName'].str.extract(r'([^\\(\\) ]+)', expand=True)\n",
    "last_name_counter = Counter(train_df['LastName'])\n",
    "train_df['LastNameCount'] = train_df['LastName'].apply(lambda x: last_name_counter[x])"
   ]
  },
  {
   "cell_type": "code",
   "execution_count": 1038,
   "metadata": {
    "scrolled": true
   },
   "outputs": [
    {
     "data": {
      "image/png": "[encoded data removed]",
      "text/plain": [
       "<matplotlib.figure.Figure at 0x12d8bc898>"
      ]
     },
     "metadata": {},
     "output_type": "display_data"
    }
   ],
   "source": [
    "tab = pd.crosstab(train_df['LastNameCount'], train_df['Survived'])\n",
    "dummy = tab.div(tab.sum(1).astype(float), axis=0).plot(kind='bar')"
   ]
  },
  {
   "cell_type": "code",
   "execution_count": 1039,
   "metadata": {
    "collapsed": true
   },
   "outputs": [],
   "source": [
    "unlucky_last_names = []\n",
    "for i in [4, 7, 10, 31, 48]:\n",
    "    names = list(set(train_df[train_df['LastNameCount'] == i]['LastName']))\n",
    "    for n in names:\n",
    "        unlucky_last_names.append(n)"
   ]
  },
  {
   "cell_type": "code",
   "execution_count": 1040,
   "metadata": {
    "collapsed": true
   },
   "outputs": [],
   "source": [
    "for dataset in combine:\n",
    "    dataset['LastName'] = dataset['Name'].str.extract(r'\\.(.*)', expand=True)\n",
    "    dataset['LastName'] = dataset['LastName'].str.extract(r'([^\\(\\) ]+)', expand=True)\n",
    "    dataset['LuckyLastName'] = dataset['LastName'].apply(lambda x: x=='Elizabeth')\n",
    "    dataset['UnluckyLastName'] = dataset['LastName'].apply(lambda x: x in unlucky_last_names)"
   ]
  },
  {
   "cell_type": "code",
   "execution_count": null,
   "metadata": {
    "collapsed": true
   },
   "outputs": [],
   "source": []
  },
  {
   "cell_type": "code",
   "execution_count": null,
   "metadata": {
    "collapsed": true
   },
   "outputs": [],
   "source": []
  },
  {
   "cell_type": "code",
   "execution_count": null,
   "metadata": {
    "scrolled": false
   },
   "outputs": [],
   "source": []
  },
  {
   "cell_type": "code",
   "execution_count": null,
   "metadata": {
    "collapsed": true
   },
   "outputs": [],
   "source": []
  },
  {
   "cell_type": "code",
   "execution_count": null,
   "metadata": {},
   "outputs": [],
   "source": []
  },
  {
   "cell_type": "code",
   "execution_count": 1260,
   "metadata": {},
   "outputs": [
    {
     "data": {
      "text/html": [
       "<div>\n",
       "<style>\n",
       "    .dataframe thead tr:only-child th {\n",
       "        text-align: right;\n",
       "    }\n",
       "\n",
       "    .dataframe thead th {\n",
       "        text-align: left;\n",
       "    }\n",
       "\n",
       "    .dataframe tbody tr th {\n",
       "        vertical-align: top;\n",
       "    }\n",
       "</style>\n",
       "<table border=\"1\" class=\"dataframe\">\n",
       "  <thead>\n",
       "    <tr style=\"text-align: right;\">\n",
       "      <th></th>\n",
       "      <th>Model</th>\n",
       "      <th>Score</th>\n",
       "    </tr>\n",
       "  </thead>\n",
       "  <tbody>\n",
       "    <tr>\n",
       "      <th>8</th>\n",
       "      <td>GradientBoosting</td>\n",
       "      <td>0.844042</td>\n",
       "    </tr>\n",
       "    <tr>\n",
       "      <th>2</th>\n",
       "      <td>Logistic Regression</td>\n",
       "      <td>0.823829</td>\n",
       "    </tr>\n",
       "    <tr>\n",
       "      <th>0</th>\n",
       "      <td>Support Vector Machines</td>\n",
       "      <td>0.813729</td>\n",
       "    </tr>\n",
       "    <tr>\n",
       "      <th>3</th>\n",
       "      <td>Random Forest</td>\n",
       "      <td>0.802493</td>\n",
       "    </tr>\n",
       "    <tr>\n",
       "      <th>1</th>\n",
       "      <td>KNN</td>\n",
       "      <td>0.796925</td>\n",
       "    </tr>\n",
       "    <tr>\n",
       "      <th>6</th>\n",
       "      <td>Linear SVC</td>\n",
       "      <td>0.783391</td>\n",
       "    </tr>\n",
       "    <tr>\n",
       "      <th>7</th>\n",
       "      <td>Decision Tree</td>\n",
       "      <td>0.778996</td>\n",
       "    </tr>\n",
       "    <tr>\n",
       "      <th>4</th>\n",
       "      <td>Naive Bayes</td>\n",
       "      <td>0.718420</td>\n",
       "    </tr>\n",
       "    <tr>\n",
       "      <th>5</th>\n",
       "      <td>Perceptron</td>\n",
       "      <td>0.520194</td>\n",
       "    </tr>\n",
       "  </tbody>\n",
       "</table>\n",
       "</div>"
      ],
      "text/plain": [
       "                     Model     Score\n",
       "8         GradientBoosting  0.844042\n",
       "2      Logistic Regression  0.823829\n",
       "0  Support Vector Machines  0.813729\n",
       "3            Random Forest  0.802493\n",
       "1                      KNN  0.796925\n",
       "6               Linear SVC  0.783391\n",
       "7            Decision Tree  0.778996\n",
       "4              Naive Bayes  0.718420\n",
       "5               Perceptron  0.520194"
      ]
     },
     "execution_count": 1260,
     "metadata": {},
     "output_type": "execute_result"
    }
   ],
   "source": [
    "# Machine Learning\n",
    "\n",
    "features = ['Pclass_3',\n",
    "            'Male', 'Female',\n",
    "            'IntFare', 'Age',\n",
    "            'Mr', 'Master', 'Rare',\n",
    "            'GoodFamilySize', 'BadFamilySize',\n",
    "           'GoodCabin', 'BadCabin',\n",
    "            'GoodTicketType', 'BadTicketType',\n",
    "            'Embarked_S']\n",
    "X_train = train_df[features]\n",
    "Y_train = train_df['Survived']\n",
    "X_test = test_df[features]\n",
    "\n",
    "# Logistic Regression\n",
    "logreg = LogisticRegression()\n",
    "logreg.fit(X_train, Y_train)\n",
    "acc_log = cross_val_score(logreg, X_train, Y_train, cv=10).mean()\n",
    "\n",
    "\n",
    "# Support Vector Machines\n",
    "svc = SVC()\n",
    "svc.fit(X_train, Y_train)\n",
    "acc_svc = cross_val_score(svc, X_train, Y_train, cv=10).mean()\n",
    "\n",
    "\n",
    "# KNN\n",
    "knn = KNeighborsClassifier(n_neighbors = 3)\n",
    "knn.fit(X_train, Y_train)\n",
    "acc_knn = cross_val_score(knn, X_train, Y_train, cv=10).mean()\n",
    "\n",
    "\n",
    "# Naive Bayes\n",
    "gaussian = GaussianNB()\n",
    "gaussian.fit(X_train, Y_train)\n",
    "acc_gaussian = cross_val_score(gaussian, X_train, Y_train, cv=10).mean()\n",
    "\n",
    "\n",
    "# Perceptron\n",
    "perceptron = Perceptron()\n",
    "perceptron.fit(X_train, Y_train)\n",
    "acc_perceptron = cross_val_score(perceptron, X_train, Y_train, cv=10).mean()\n",
    "\n",
    "\n",
    "# Linear SVC\n",
    "linear_svc = LinearSVC()\n",
    "linear_svc.fit(X_train, Y_train)\n",
    "acc_linear_svc = cross_val_score(linear_svc, X_train, Y_train, cv=10).mean()\n",
    "\n",
    "\n",
    "# Decision Tree\n",
    "decision_tree = DecisionTreeClassifier()\n",
    "decision_tree.fit(X_train, Y_train)\n",
    "acc_decision_tree = cross_val_score(decision_tree, X_train, Y_train, cv=10).mean()\n",
    "\n",
    "# Random Forest\n",
    "\n",
    "random_forest = RandomForestClassifier(n_estimators=100)\n",
    "random_forest.fit(X_train, Y_train)\n",
    "random_forest.score(X_train, Y_train)\n",
    "acc_random_forest = cross_val_score(random_forest, X_train, Y_train, cv=10).mean()\n",
    "\n",
    "\n",
    "# Gradient Boosting\n",
    "\n",
    "gradient_boosting = GradientBoostingClassifier(n_estimators=100)\n",
    "gradient_boosting.fit(X_train, Y_train)\n",
    "gradient_boosting.score(X_train, Y_train)\n",
    "acc_gradient_boosting = cross_val_score(gradient_boosting, X_train, Y_train, cv=10).mean()\n",
    "\n",
    "\n",
    "\n",
    "models = pd.DataFrame({\n",
    "    'Model': ['Support Vector Machines', 'KNN', 'Logistic Regression', \n",
    "              'Random Forest', 'Naive Bayes', 'Perceptron', \n",
    "               'Linear SVC', \n",
    "              'Decision Tree' , 'GradientBoosting'],\n",
    "    'Score': [acc_svc, acc_knn, acc_log, \n",
    "              acc_random_forest, acc_gaussian, acc_perceptron, \n",
    "              acc_linear_svc, acc_decision_tree, acc_gradient_boosting]})\n",
    "models.sort_values(by='Score', ascending=False)"
   ]
  },
  {
   "cell_type": "code",
   "execution_count": 1261,
   "metadata": {},
   "outputs": [
    {
     "data": {
      "text/plain": [
       "<matplotlib.axes._subplots.AxesSubplot at 0x139e1c358>"
      ]
     },
     "execution_count": 1261,
     "metadata": {},
     "output_type": "execute_result"
    },
    {
     "data": {
      "image/png": "[encoded data removed]",
      "text/plain": [
       "<matplotlib.figure.Figure at 0x139e27f28>"
      ]
     },
     "metadata": {},
     "output_type": "display_data"
    }
   ],
   "source": [
    "features = pd.DataFrame()\n",
    "features['feature'] = X_train.columns\n",
    "features['importance'] = gradient_boosting.feature_importances_\n",
    "features.sort_values(by=['importance'], ascending=True, inplace=True)\n",
    "features.set_index('feature', inplace=True)\n",
    "features.plot(kind='barh', figsize=(20, 20))"
   ]
  },
  {
   "cell_type": "code",
   "execution_count": 1256,
   "metadata": {},
   "outputs": [],
   "source": [
    "Y_pred = gradient_boosting.predict(X_test)"
   ]
  },
  {
   "cell_type": "code",
   "execution_count": 1257,
   "metadata": {
    "collapsed": true
   },
   "outputs": [],
   "source": [
    "submission = pd.DataFrame({\n",
    "        \"PassengerId\": test_df[\"PassengerId\"],\n",
    "        \"Survived\": Y_pred\n",
    "    })\n",
    "submission.to_csv('submission.csv', index=False)"
   ]
  }
 ],
 "metadata": {
  "kernelspec": {
   "display_name": "Python 3",
   "language": "python",
   "name": "python3"
  },
  "language_info": {
   "codemirror_mode": {
    "name": "ipython",
    "version": 3
   },
   "file_extension": ".py",
   "mimetype": "text/x-python",
   "name": "python",
   "nbconvert_exporter": "python",
   "pygments_lexer": "ipython3",
   "version": "3.6.1"
  }
 },
 "nbformat": 4,
 "nbformat_minor": 2
}
